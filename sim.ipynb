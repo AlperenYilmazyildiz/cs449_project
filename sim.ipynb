{
 "cells": [
  {
   "cell_type": "code",
   "execution_count": 1,
   "metadata": {},
   "outputs": [],
   "source": [
    "import robotic as ry\n",
    "import numpy as np\n",
    "import time\n",
    "\n",
    "C = ry.Config()"
   ]
  },
  {
   "cell_type": "code",
   "execution_count": 2,
   "metadata": {},
   "outputs": [
    {
     "name": "stdout",
     "output_type": "stream",
     "text": [
      "[1.   2.5  0.15]\n"
     ]
    },
    {
     "data": {
      "text/plain": [
       "0"
      ]
     },
     "execution_count": 2,
     "metadata": {},
     "output_type": "execute_result"
    }
   ],
   "source": [
    "C.addFile(\"simEnv.g\")\n",
    "\n",
    "# robotPos = C.getFrame(\"l_robot_base\").getPosition()\n",
    "carPos = C.getFrame(\"car2\").getPosition()\n",
    "print(carPos)\n",
    "C.view()"
   ]
  },
  {
   "cell_type": "code",
   "execution_count": 3,
   "metadata": {},
   "outputs": [
    {
     "name": "stdout",
     "output_type": "stream",
     "text": [
      "[-3.8   0.5   0.01]\n",
      "[-0.3  0.   0.   0.   0. ]\n"
     ]
    }
   ],
   "source": [
    "print(C.getFrame('l_robot_base').getPosition())\n",
    "print(C.getJointState())"
   ]
  },
  {
   "cell_type": "code",
   "execution_count": 4,
   "metadata": {},
   "outputs": [],
   "source": [
    "def moveToTarget(C, target):\n",
    "    q0 = C.getJointState()\n",
    "\n",
    "    komo = ry.KOMO(C, 5, 10, 1, False)\n",
    "    komo.addObjective([], ry.FS.accumulatedCollisions, [], ry.OT.eq, [1e-1])\n",
    "    komo.addObjective([], ry.FS.jointState, [], ry.OT.sos, [1e-1], q0)\n",
    "    komo.addObjective([], ry.FS.positionDiff, ['l_middle_joint', target.name], ry.OT.eq, [1e1], [0.1, -0.1, 0])\n",
    "    komo.addObjective([], ry.FS.scalarProductXX, ['l_robot_base', target.name], ry.OT.eq, [1e2], [-1])\n",
    "    ret = ry.NLP_Solver(komo.nlp(), verbose=0 ) .solve()\n",
    "    q = komo.getPath()[-1]\n",
    "\n",
    "    return q"
   ]
  },
  {
   "cell_type": "code",
   "execution_count": 5,
   "metadata": {},
   "outputs": [],
   "source": [
    "def moveToPark(C, target):\n",
    "    q0 = C.getJointState()\n",
    "    if target.getPosition()[0] > 0:\n",
    "        x = -0.6\n",
    "        product = 1\n",
    "    else: \n",
    "        x = 0.6\n",
    "        product = -1\n",
    "\n",
    "    komo = ry.KOMO(C, 5, 10, 1, False)\n",
    "    komo.addObjective([], ry.FS.accumulatedCollisions, [], ry.OT.eq, [1e-1])\n",
    "    komo.addObjective([], ry.FS.jointState, [], ry.OT.sos, [1e-1], q0)\n",
    "    komo.addObjective([], ry.FS.positionDiff, ['car2', target.name], ry.OT.eq, [1e0], [0, -0.1, 0.15])\n",
    "    komo.addObjective([], ry.FS.scalarProductXX, ['l_robot_base', target.name], ry.OT.eq, [1e2], [product])\n",
    "    ret = ry.NLP_Solver(komo.nlp(), verbose=0 ) .solve()\n",
    "    q = komo.getPath()[-1]\n",
    "\n",
    "    return q"
   ]
  },
  {
   "cell_type": "code",
   "execution_count": 6,
   "metadata": {},
   "outputs": [],
   "source": [
    "car = C.getFrame('car2')\n",
    "qHome = C.getJointState()\n",
    "robot_to_car = moveToTarget(C, car)"
   ]
  },
  {
   "cell_type": "code",
   "execution_count": 7,
   "metadata": {},
   "outputs": [
    {
     "name": "stdout",
     "output_type": "stream",
     "text": [
      "-- RRT_PathFinder.cpp:RRT_PathFinder:258(0) initializing with infeasible qT:\n",
      "query: h_goal: 0 g_coll: 0 isGoal: 1 isFeasible: 0\n",
      "proxy:  (l_robot_base)-(car2) [59,51] \td=-0\n",
      "True\n"
     ]
    }
   ],
   "source": [
    "rrt = ry.PathFinder()\n",
    "rrt.setProblem(C, [qHome], [robot_to_car])\n",
    "\n",
    "#for trial in range(20):\n",
    "ret = rrt.solve()\n",
    "path = ret.x\n",
    "print(ret.feasible)\n",
    "# if ret.feasible is False:\n",
    "#     continue\n",
    "# else:\n",
    "#     break"
   ]
  },
  {
   "cell_type": "code",
   "execution_count": 8,
   "metadata": {},
   "outputs": [],
   "source": [
    "C.view()\n",
    "time.sleep(.8)\n",
    "# display the path\n",
    "for t in range(0, path.shape[0]-1):\n",
    "    C.setJointState(path[t])\n",
    "    C.view()\n",
    "    time.sleep(.1)\n",
    "\n",
    "#attach cargo\n",
    "C.getFrame('car2').unLink()\n",
    "C.attach('l_robot_base', 'car2') \n",
    "\n",
    "target = C.getFrame('parking_space_8')\n",
    "#robotPos = C.getFrame('l_robot_base').getPosition()\n",
    "robot_to_park = moveToPark(C, target)"
   ]
  },
  {
   "cell_type": "code",
   "execution_count": 9,
   "metadata": {},
   "outputs": [
    {
     "name": "stdout",
     "output_type": "stream",
     "text": [
      "True\n"
     ]
    }
   ],
   "source": [
    "rrt2 = ry.PathFinder()\n",
    "rrt2.setProblem(C, [robot_to_car], [robot_to_park])\n",
    "\n",
    "# ret2 = rrt2.solve()\n",
    "# path2 = ret2.x\n",
    "for trial in range(10):\n",
    "    ret2 = rrt2.solve()\n",
    "    path2 = ret2.x\n",
    "    print(ret2.feasible)\n",
    "    if ret2.feasible is False:\n",
    "        continue\n",
    "    else:\n",
    "        break"
   ]
  },
  {
   "cell_type": "code",
   "execution_count": 10,
   "metadata": {},
   "outputs": [
    {
     "data": {
      "text/plain": [
       "<robotic._robotic.Frame at 0x76e02b5c4430>"
      ]
     },
     "execution_count": 10,
     "metadata": {},
     "output_type": "execute_result"
    }
   ],
   "source": [
    "C.view()\n",
    "time.sleep(.8)\n",
    "# display the path\n",
    "for t in range(0, path2.shape[0]-1):\n",
    "    C.setJointState(path2[t])\n",
    "    C.view()\n",
    "    time.sleep(.1)\n",
    "#attach cargo\n",
    "C.getFrame('car2').unLink()"
   ]
  },
  {
   "cell_type": "code",
   "execution_count": 11,
   "metadata": {},
   "outputs": [],
   "source": [
    "return_back = moveToTarget(C, C.getFrame('robot_start'))\n",
    "\n",
    "rrt3 = ry.PathFinder()\n",
    "rrt3.setProblem(C, [robot_to_park], [return_back])\n",
    "\n",
    "ret3 = rrt3.solve()\n",
    "path3 = ret3.x\n",
    "\n",
    "C.view()\n",
    "time.sleep(.8)\n",
    "# display the path\n",
    "for t in range(0, path3.shape[0]-1):\n",
    "    C.setJointState(path3[t])\n",
    "    C.view()\n",
    "    time.sleep(.1)"
   ]
  },
  {
   "cell_type": "code",
   "execution_count": 12,
   "metadata": {},
   "outputs": [
    {
     "name": "stdout",
     "output_type": "stream",
     "text": [
      "[ 2.48716081 -4.79165796  0.15      ]\n",
      "[-0.5  -1.2   0.01]\n"
     ]
    }
   ],
   "source": [
    "print(C.getFrame(\"car2\").getPosition())\n",
    "print(C.getFrame(\"parking_space_28\").getPosition())"
   ]
  }
 ],
 "metadata": {
  "kernelspec": {
   "display_name": "Python 3",
   "language": "python",
   "name": "python3"
  },
  "language_info": {
   "codemirror_mode": {
    "name": "ipython",
    "version": 3
   },
   "file_extension": ".py",
   "mimetype": "text/x-python",
   "name": "python",
   "nbconvert_exporter": "python",
   "pygments_lexer": "ipython3",
   "version": "3.10.12"
  }
 },
 "nbformat": 4,
 "nbformat_minor": 2
}
