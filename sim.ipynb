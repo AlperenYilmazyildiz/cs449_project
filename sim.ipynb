{
 "cells": [
  {
   "cell_type": "code",
   "execution_count": 1,
   "metadata": {},
   "outputs": [],
   "source": [
    "import robotic as ry\n",
    "import numpy as np\n",
    "import time\n",
    "\n",
    "C = ry.Config()"
   ]
  },
  {
   "cell_type": "code",
   "execution_count": 2,
   "metadata": {},
   "outputs": [
    {
     "name": "stdout",
     "output_type": "stream",
     "text": [
      "[-0.2   2.5   0.19]\n"
     ]
    },
    {
     "data": {
      "text/plain": [
       "0"
      ]
     },
     "execution_count": 2,
     "metadata": {},
     "output_type": "execute_result"
    }
   ],
   "source": [
    "C.addFile(\"simEnv.g\")\n",
    "\n",
    "# robotPos = C.getFrame(\"l_robot_base\").getPosition()\n",
    "carPos = C.getFrame(\"car2\").getPosition()\n",
    "print(carPos)\n",
    "C.view()"
   ]
  },
  {
   "cell_type": "code",
   "execution_count": null,
   "metadata": {},
   "outputs": [],
   "source": [
    "print(C.getFrame(\"l_robot_base\").getPosition())\n",
    "print(C.getJointState())"
   ]
  },
  {
   "cell_type": "code",
   "execution_count": 3,
   "metadata": {},
   "outputs": [],
   "source": [
    "#def IKCar(C, qHome):\n",
    "q0 = C.getJointState()\n",
    "\n",
    "komo = ry.KOMO(C, 5, 10, 1, False)\n",
    "komo.addObjective([], ry.FS.accumulatedCollisions, [], ry.OT.eq, [1e-1])\n",
    "komo.addObjective([], ry.FS.jointState, [], ry.OT.sos, [1e-1], q0)\n",
    "# komo.addObjective([], ry.FS.positionDiff, ['l_W1_wheelJoint', 'car2'], ry.OT.eq, [1e1], [-0.1, 3.2, 0.19])\n",
    "# komo.addObjective([], ry.FS.positionDiff, ['l_W2_wheelJoint', 'car2'], ry.OT.eq, [1e1], [0.1, 3.2, 0.19])\n",
    "# komo.addObjective([], ry.FS.positionDiff, ['l_W3_wheelJoint', 'car2'], ry.OT.eq, [1e1], [-0.1, 2.6, 0.19])\n",
    "# komo.addObjective([], ry.FS.positionDiff, ['l_W4_wheelJoint', 'car2'], ry.OT.eq, [1e1], [0.1, 2.6, 0.19])\n",
    "komo.addObjective([], ry.FS.positionDiff, ['l_robot_base', 'car2'], ry.OT.eq, [1e1], [0.1, 0, 0.17])\n",
    "ret = ry.NLP_Solver(komo.nlp(), verbose=0 ) .solve()\n",
    "q = komo.getPath()[-1]\n",
    "\n",
    "#return q[-1]"
   ]
  },
  {
   "cell_type": "code",
   "execution_count": 5,
   "metadata": {},
   "outputs": [
    {
     "name": "stdout",
     "output_type": "stream",
     "text": [
      "[-0.3  0.   0.   0.   0. ]\n",
      "[ 3.40012052  2.00006524 -0.0035976   0.1         0.1       ]\n",
      "[[-10.  -10.   -4.    0.1   0.1]\n",
      " [ 10.   10.    4.    3.    3. ]]\n"
     ]
    }
   ],
   "source": [
    "# Run the tasks\n",
    "qHome = C.getJointState()\n",
    "sdag = C.getJointState()\n",
    "# robot_to_car = IKCar(C, qHome)\n",
    "print(qHome)\n",
    "print(q)\n",
    "print(C.getJointLimits())"
   ]
  },
  {
   "cell_type": "code",
   "execution_count": null,
   "metadata": {},
   "outputs": [
    {
     "name": "stdout",
     "output_type": "stream",
     "text": [
      "fkajdsddfasd\n"
     ]
    },
    {
     "ename": "NameError",
     "evalue": "name 'qHome' is not defined",
     "output_type": "error",
     "traceback": [
      "\u001b[0;31m---------------------------------------------------------------------------\u001b[0m",
      "\u001b[0;31mNameError\u001b[0m                                 Traceback (most recent call last)",
      "Cell \u001b[0;32mIn[4], line 4\u001b[0m\n\u001b[1;32m      2\u001b[0m rrt \u001b[38;5;241m=\u001b[39m ry\u001b[38;5;241m.\u001b[39mPathFinder()\n\u001b[1;32m      3\u001b[0m \u001b[38;5;28mprint\u001b[39m(\u001b[38;5;124m\"\u001b[39m\u001b[38;5;124mfkajdsddfasd\u001b[39m\u001b[38;5;124m\"\u001b[39m)\n\u001b[0;32m----> 4\u001b[0m rrt\u001b[38;5;241m.\u001b[39msetProblem(C, [\u001b[43mqHome\u001b[49m], [q])\n\u001b[1;32m      5\u001b[0m \u001b[38;5;28mprint\u001b[39m(\u001b[38;5;124m\"\u001b[39m\u001b[38;5;124mhhdfheregxvs\u001b[39m\u001b[38;5;124m\"\u001b[39m)\n\u001b[1;32m      7\u001b[0m \u001b[38;5;66;03m#for trial in range(20):\u001b[39;00m\n",
      "\u001b[0;31mNameError\u001b[0m: name 'qHome' is not defined"
     ]
    }
   ],
   "source": [
    "#define a path finding problem for cargo position --> YOU MAY NEED TO RUN THIS CELL MULTIPLE TIMES\n",
    "rrt = ry.PathFinder()\n",
    "print(\"fkajdsddfasd\")\n",
    "rrt.setProblem(C, [qHome], [q])\n",
    "print(\"hhdfheregxvs\")\n",
    "\n",
    "#for trial in range(20):\n",
    "ret = rrt.solve()\n",
    "path = ret.x\n",
    "print(ret.feasible)\n",
    "# if ret.feasible is False:\n",
    "#     continue\n",
    "# else:\n",
    "#     break"
   ]
  },
  {
   "cell_type": "code",
   "execution_count": null,
   "metadata": {},
   "outputs": [],
   "source": [
    "print(path)"
   ]
  },
  {
   "cell_type": "code",
   "execution_count": null,
   "metadata": {},
   "outputs": [],
   "source": [
    "C.view()\n",
    "time.sleep(.8)\n",
    "# display the path\n",
    "for t in range(0, path.shape[0]-1):\n",
    "    C.setJointState(path[t])\n",
    "    C.view()\n",
    "    time.sleep(.1)\n",
    "\n",
    "#attach cargo\n",
    "C.getFrame('car2').unLink()\n",
    "C.attach('l_robot_base', 'car2') \n"
   ]
  }
 ],
 "metadata": {
  "kernelspec": {
   "display_name": "Python 3",
   "language": "python",
   "name": "python3"
  },
  "language_info": {
   "codemirror_mode": {
    "name": "ipython",
    "version": 3
   },
   "file_extension": ".py",
   "mimetype": "text/x-python",
   "name": "python",
   "nbconvert_exporter": "python",
   "pygments_lexer": "ipython3",
   "version": "3.10.12"
  }
 },
 "nbformat": 4,
 "nbformat_minor": 2
}
