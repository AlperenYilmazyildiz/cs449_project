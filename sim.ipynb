{
 "cells": [
  {
   "cell_type": "code",
   "execution_count": 44,
   "metadata": {},
   "outputs": [],
   "source": [
    "import robotic as ry\n",
    "import numpy as np\n",
    "import time\n",
    "\n",
    "C = ry.Config()"
   ]
  },
  {
   "cell_type": "code",
   "execution_count": 46,
   "metadata": {},
   "outputs": [
    {
     "data": {
      "text/plain": [
       "0"
      ]
     },
     "execution_count": 46,
     "metadata": {},
     "output_type": "execute_result"
    }
   ],
   "source": [
    "C.addFile(\"/home/biqu/RAI/cs449_project/scenarios/simEnv.g\")\n",
    "\n",
    "robotPos = C.getFrame(\"l_robot_base\").getPosition()\n",
    "carPos = C.getFrame(\"car2\").getPosition()\n",
    "\n",
    "C.view()"
   ]
  },
  {
   "cell_type": "code",
   "execution_count": 8,
   "metadata": {},
   "outputs": [
    {
     "name": "stdout",
     "output_type": "stream",
     "text": [
      "[0. 0. 0. 0. 0. 0. 0. 0. 0. 0.]\n"
     ]
    }
   ],
   "source": [
    "print(C.getJointState())"
   ]
  },
  {
   "cell_type": "code",
   "execution_count": 9,
   "metadata": {},
   "outputs": [],
   "source": [
    "#def IKCar(C, qHome):\n",
    "#q0 = C.getFrameState()\n",
    "\n",
    "komo = ry.KOMO(C, 5, 10, 1, False)\n",
    "#komo.addObjective([], ry.FS.accumulatedCollisions, [], ry.OT.eq, [1e-1])\n",
    "#komo.addObjective([], ry.FS.jointState, [], ry.OT.sos, [1e-1], q0)\n",
    "#komo.addObjective([], ry.FS.jointState, [], ry.OT.sos, [1e-1], qHome)\n",
    "komo.addObjective([], ry.FS.positionDiff, ['l_robot_base', 'car2'], ry.OT.eq, [1e1])\n",
    "\n",
    "ret = ry.NLP_Solver(komo.nlp(), verbose=0 ) .solve()\n",
    "q = komo.getPath()[-1]\n",
    "\n",
    "#return q[-1]"
   ]
  },
  {
   "cell_type": "code",
   "execution_count": 10,
   "metadata": {},
   "outputs": [],
   "source": [
    "# Run the tasks\n",
    "qHome = C.getFrameState()\n",
    "sdag = C.getJointState()\n",
    "# robot_to_car = IKCar(C, qHome)\n",
    "#print(qHome)"
   ]
  },
  {
   "cell_type": "code",
   "execution_count": null,
   "metadata": {},
   "outputs": [
    {
     "name": "stdout",
     "output_type": "stream",
     "text": [
      "fkajdsddfasd\n",
      "STACK9 /bin/python3(+0x198ebb) [0x5a63916bfebb]\n",
      "STACK8 /bin/python3(_PyObject_MakeTpCall\n",
      "STACK7 /bin/python3(+0x18b282) [0x5a63916b2282]\n",
      "STACK6 /home/alperen/.local/lib/python3.10/site-packages/robotic/_robotic.so(+0x3a63e) [0x775d3d44363e]\n",
      "STACK5 /home/alperen/.local/lib/python3.10/site-packages/robotic/_robotic.so(+0x876b9) [0x775d3d4906b9]\n",
      "STACK4 rai::PathFinder::setProblem(rai::Configuration const&, rai::ArrayDouble const&, rai::ArrayDouble const&)\n",
      "STACK3 RRT_PathFinder::RRT_PathFinder(ConfigurationProblem&, rai::ArrayDouble const&, rai::ArrayDouble const&, double, int, int, int)\n",
      "STACK2 ConfigurationProblem::query(rai::ArrayDouble const&)\n",
      "STACK1 rai::Configuration::setJointState(rai::ArrayDouble const&)\n",
      "STACK0 rai::LogToken::~LogToken()\n"
     ]
    },
    {
     "name": "stderr",
     "output_type": "stream",
     "text": [
      "== ERROR:kin.cpp:setJointState:668(-2) CHECK_EQ failed: '_q.N'=3 'N'=11 -- wrong joint state dimensionalities\n"
     ]
    },
    {
     "ename": "KeyboardInterrupt",
     "evalue": "",
     "output_type": "error",
     "traceback": [
      "\u001b[0;31m---------------------------------------------------------------------------\u001b[0m",
      "\u001b[0;31mRuntimeError\u001b[0m                              Traceback (most recent call last)",
      "    \u001b[0;31m[... skipping hidden 1 frame]\u001b[0m\n",
      "Cell \u001b[0;32mIn[5], line 4\u001b[0m\n\u001b[1;32m      3\u001b[0m \u001b[38;5;28mprint\u001b[39m(\u001b[38;5;124m\"\u001b[39m\u001b[38;5;124mfkajdsddfasd\u001b[39m\u001b[38;5;124m\"\u001b[39m)\n\u001b[0;32m----> 4\u001b[0m \u001b[43mrrt\u001b[49m\u001b[38;5;241;43m.\u001b[39;49m\u001b[43msetProblem\u001b[49m\u001b[43m(\u001b[49m\u001b[43mC\u001b[49m\u001b[43m,\u001b[49m\u001b[43m \u001b[49m\u001b[43m[\u001b[49m\u001b[43mrobotPos\u001b[49m\u001b[43m]\u001b[49m\u001b[43m,\u001b[49m\u001b[43m \u001b[49m\u001b[43m[\u001b[49m\u001b[43mq\u001b[49m\u001b[43m]\u001b[49m\u001b[43m)\u001b[49m\n\u001b[1;32m      5\u001b[0m \u001b[38;5;28mprint\u001b[39m(\u001b[38;5;124m\"\u001b[39m\u001b[38;5;124mhhdfheregxvs\u001b[39m\u001b[38;5;124m\"\u001b[39m)\n",
      "\u001b[0;31mRuntimeError\u001b[0m: kin.cpp:setJointState:668(-2) CHECK_EQ failed: '_q.N'=3 'N'=11 -- wrong joint state dimensionalities",
      "\nDuring handling of the above exception, another exception occurred:\n",
      "\u001b[0;31mKeyboardInterrupt\u001b[0m                         Traceback (most recent call last)",
      "\u001b[0;31mKeyboardInterrupt\u001b[0m: "
     ]
    }
   ],
   "source": [
    "#define a path finding problem for cargo position --> YOU MAY NEED TO RUN THIS CELL MULTIPLE TIMES\n",
    "rrt = ry.PathFinder()\n",
    "print(\"fkajdsddfasd\")\n",
    "rrt.setProblem(C, [robotPos], [q])\n",
    "print(\"hhdfheregxvs\")\n",
    "\n",
    "for trial in range(20):\n",
    "    ret = rrt.solve()\n",
    "    path = ret.x\n",
    "    print(ret.feasible)\n",
    "    if ret.feasible is False:\n",
    "        continue\n",
    "    else:\n",
    "        break"
   ]
  },
  {
   "cell_type": "code",
   "execution_count": null,
   "metadata": {},
   "outputs": [],
   "source": [
    "# display the path\n",
    "for t in range(0, path.shape[0]-1):\n",
    "    C.setFrameState(path[t])\n",
    "    C.view()\n",
    "    time.sleep(.1)\n",
    "\n",
    "#attach cargo\n",
    "C.attach('l_robot_base', 'car2') \n"
   ]
  }
 ],
 "metadata": {
  "kernelspec": {
   "display_name": "Python 3",
   "language": "python",
   "name": "python3"
  },
  "language_info": {
   "codemirror_mode": {
    "name": "ipython",
    "version": 3
   },
   "file_extension": ".py",
   "mimetype": "text/x-python",
   "name": "python",
   "nbconvert_exporter": "python",
   "pygments_lexer": "ipython3",
   "version": "3.8.10"
  }
 },
 "nbformat": 4,
 "nbformat_minor": 2
}
