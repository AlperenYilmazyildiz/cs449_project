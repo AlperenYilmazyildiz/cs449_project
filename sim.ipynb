{
 "cells": [
  {
   "cell_type": "code",
   "execution_count": 1,
   "metadata": {},
   "outputs": [],
   "source": [
    "# class SimulationManager:\n",
    "#     def __init__(self, config):\n",
    "#         self.C = config\n",
    "#         self.objects = []\n",
    "#         self.previous_target = None\n",
    "\n",
    "#     def setScenario(self, number_of_obstacles):\n",
    "#         for i in range(number_of_obstacles):\n",
    "#             # Add obstacle frames\n",
    "#             parent_frame = 'parking_space_' + str(np.random.randint(1, 42))\n",
    "#             if self.C.getFrame(parent_frame) is None:\n",
    "#                 print(f\"Error: Parent frame '{parent_frame}' does not exist.\")\n",
    "#                 continue\n",
    "\n",
    "#             f = self.C.addFrame(f'car{i}', parent_frame)\n",
    "#             f.setRelativePose('t(0 0 0.14) d(0 0 0 0)')\n",
    "#             f.setShape(ry.ST.box, [0.9, 0.39, 0.28])\n",
    "#             f.setColor([0.2, 0.2, 0.2, 0.4])\n",
    "#             f.setContact(1)\n",
    "#             f.setMass(1.0)\n",
    "\n",
    "#     def getAttributes(self, object_name):\n",
    "#         # Determine object type\n",
    "#         if object_name.startswith('l_robot_base'):\n",
    "#             obj_type = 'robot'\n",
    "#         elif object_name.startswith('target_'):\n",
    "#             obj_type = 'target'\n",
    "#         elif object_name.startswith('car'):\n",
    "#             obj_type = 'obstacle'\n",
    "#         else:\n",
    "#             obj_type = 'unknown'\n",
    "  \n",
    "#         # Retrieve the frame\n",
    "#         frame = self.C.getFrame(object_name)\n",
    "#         if frame is None:\n",
    "#             print(f\"Error: Frame for object '{object_name}' not found.\")\n",
    "#             return None\n",
    "\n",
    "#         # Check if the object already exists\n",
    "#         for obj in self.objects:\n",
    "#             if obj['name'] == object_name:\n",
    "#                 return obj\n",
    "\n",
    "#         # Collect attributes and add to the list\n",
    "#         attributes = {\n",
    "#             \"name\": object_name,\n",
    "#             \"type\": obj_type,\n",
    "#             \"frame\": frame,\n",
    "#             \"position\": frame.getPosition(),\n",
    "#             \"size\": frame.getSize(),\n",
    "#             \"quaternion\": frame.getQuaternion()\n",
    "#         }\n",
    "#         self.objects.append(attributes)\n",
    "#         return attributes\n",
    "\n",
    "#     def setTarget(self, object_name):\n",
    "#         # Retrieve the frame\n",
    "#         frame = self.C.getFrame(object_name)\n",
    "#         if frame is None:\n",
    "#             print(f\"Error: Frame for object '{object_name}' not found.\")\n",
    "#             return None\n",
    "\n",
    "#         # Revert previous target's color\n",
    "#         if self.previous_target:\n",
    "#             prev_frame = self.C.getFrame(self.previous_target)\n",
    "#             if prev_frame:\n",
    "#                 prev_frame.setColor([0.2, 0.2, 0.2, 0.4])\n",
    "\n",
    "#         # Update current target's color\n",
    "#         frame.setColor([0, 1, 0, 0.4])\n",
    "\n",
    "#         # Update object type in the list\n",
    "#         for obj in self.objects:\n",
    "#             if obj['name'] == self.previous_target:\n",
    "#                 obj['type'] = 'obstacle'\n",
    "#             if obj['name'] == object_name:\n",
    "#                 obj['type'] = 'target'\n",
    "\n",
    "#         # Store the current target\n",
    "#         self.previous_target = object_name\n",
    "\n",
    "# # Initialize simulation\n",
    "# C = ry.Config()\n",
    "# C.addFile('/home/alperen/Desktop/cs449_project/scenarios/simEnv.g')\n",
    "\n",
    "# # Create a SimulationManager instance\n",
    "# sim_manager = SimulationManager(C)\n",
    "\n",
    "# # Retrieve attributes for all objects\n",
    "# for frame_name in C.getFrameNames():\n",
    "#     sim_manager.getAttributes(frame_name)\n",
    "\n",
    "# # Set an object as the target\n",
    "# sim_manager.setTarget('car2')\n",
    "\n",
    "# # Retrieve attributes for the target\n",
    "# g = sim_manager.objects\n",
    "# # View the simulation\n",
    "# C.view()\n"
   ]
  },
  {
   "cell_type": "code",
   "execution_count": 2,
   "metadata": {},
   "outputs": [],
   "source": [
    "# # Set up the scenario\n",
    "# sim_manager.setScenario(5)\n",
    "\n",
    "# # Retrieve attributes for the target\n",
    "# g = sim_manager.objects\n",
    "# # View the simulation\n",
    "# C.view()"
   ]
  },
  {
   "cell_type": "code",
   "execution_count": 52,
   "metadata": {},
   "outputs": [],
   "source": [
    "import robotic as ry\n",
    "import numpy as np\n",
    "import time\n",
    "\n",
    "C = ry.Config()"
   ]
  },
  {
   "cell_type": "code",
   "execution_count": 71,
   "metadata": {},
   "outputs": [
    {
     "data": {
      "text/plain": [
       "0"
      ]
     },
     "execution_count": 71,
     "metadata": {},
     "output_type": "execute_result"
    }
   ],
   "source": [
    "C.addFile(\"simEnv2.g\")\n",
    "\n",
    "C.view()"
   ]
  },
  {
   "cell_type": "code",
   "execution_count": 54,
   "metadata": {},
   "outputs": [
    {
     "name": "stdout",
     "output_type": "stream",
     "text": [
      "[-3.8   0.5   0.17]\n",
      "[-0.3  0.   0.   0.   0. ]\n"
     ]
    }
   ],
   "source": [
    "print(C.getFrame('l_robot_base').getPosition())\n",
    "print(C.getJointState())"
   ]
  },
  {
   "cell_type": "code",
   "execution_count": 55,
   "metadata": {},
   "outputs": [],
   "source": [
    "def moveToTarget(C, target):\n",
    "    q0 = C.getJointState()\n",
    "\n",
    "    komo = ry.KOMO(C, 5, 10, 1, False)\n",
    "    komo.addObjective([], ry.FS.accumulatedCollisions, [], ry.OT.eq, [1e-1])\n",
    "    komo.addObjective([], ry.FS.jointState, [], ry.OT.sos, [1e-1], q0)\n",
    "    komo.addObjective([], ry.FS.positionDiff, ['l_middle_joint', target.name], ry.OT.eq, [1e1], [0.1, -0.1, 0])\n",
    "    komo.addObjective([], ry.FS.scalarProductXX, ['l_robot_base', target.name], ry.OT.eq, [1e2], [-1])\n",
    "    ret = ry.NLP_Solver(komo.nlp(), verbose=0 ).solve()\n",
    "    q = komo.getPath()[-1]\n",
    "\n",
    "    return q"
   ]
  },
  {
   "cell_type": "code",
   "execution_count": 56,
   "metadata": {},
   "outputs": [],
   "source": [
    "def moveToPark(C, target):\n",
    "    q0 = C.getJointState()\n",
    "    if target.getPosition()[0] > 0:\n",
    "        x = -0.6\n",
    "        product = 1\n",
    "    else: \n",
    "        x = 0.6\n",
    "        product = -1\n",
    "\n",
    "    komo = ry.KOMO(C, 5, 10, 1, False)\n",
    "    komo.addObjective([], ry.FS.accumulatedCollisions, [], ry.OT.eq, [1e-1])\n",
    "    komo.addObjective([], ry.FS.jointState, [], ry.OT.sos, [1e-1], q0)\n",
    "    komo.addObjective([], ry.FS.positionDiff, ['car1', target.name], ry.OT.eq, [1e0], [0, -0.1, 0.15])\n",
    "    komo.addObjective([], ry.FS.scalarProductXX, ['l_robot_base', target.name], ry.OT.eq, [1e2], [product])\n",
    "    ret = ry.NLP_Solver(komo.nlp(), verbose=0 ).solve()\n",
    "    q = komo.getPath()[-1]\n",
    "\n",
    "    return q"
   ]
  },
  {
   "cell_type": "code",
   "execution_count": 57,
   "metadata": {},
   "outputs": [],
   "source": [
    "def moveBack(C):\n",
    "    q0 = C.getJointState()\n",
    "    \n",
    "    komo = ry.KOMO(C, 5, 10, 1, False)\n",
    "    komo.addObjective([], ry.FS.accumulatedCollisions, [], ry.OT.eq, [1e-1])\n",
    "    komo.addObjective([], ry.FS.jointState, [], ry.OT.sos, [1e-1], q0)\n",
    "    komo.addObjective([], ry.FS.positionDiff, ['l_middle_joint', 'robot_start'], ry.OT.eq, [1e1], [0, 0.05, 0])\n",
    "    komo.addObjective([], ry.FS.scalarProductXX, ['l_middle_joint', 'robot_start'], ry.OT.eq, [1e2], [1])\n",
    "    ret = ry.NLP_Solver(komo.nlp(), verbose=0 ).solve()\n",
    "    q = komo.getPath()[-1]\n",
    "    \n",
    "    return q"
   ]
  },
  {
   "cell_type": "code",
   "execution_count": 58,
   "metadata": {},
   "outputs": [],
   "source": [
    "car = C.getFrame('car1')\n",
    "qHome = C.getJointState()\n",
    "robot_to_car = moveToTarget(C, car)"
   ]
  },
  {
   "cell_type": "code",
   "execution_count": 59,
   "metadata": {},
   "outputs": [
    {
     "name": "stdout",
     "output_type": "stream",
     "text": [
      "True-- RRT_PathFinder.cpp:RRT_PathFinder:258(0) initializing with infeasible qT:\n",
      "query: h_goal: 0 g_coll: 0 isGoal: 1 isFeasible: 0\n",
      "proxy:  (l_robot_body)-(car1) [97,49] \td=-0\n",
      "proxy:  (l_robot_base)-(car1) [96,49] \td=-0\n",
      "\n"
     ]
    }
   ],
   "source": [
    "rrt = ry.PathFinder()\n",
    "rrt.setProblem(C, [qHome], [robot_to_car])\n",
    "\n",
    "for trial in range(10):\n",
    "    ret = rrt.solve()\n",
    "    path = ret.x\n",
    "    print(ret.feasible)\n",
    "    if ret.feasible is False:\n",
    "        continue\n",
    "    else:\n",
    "        break"
   ]
  },
  {
   "cell_type": "code",
   "execution_count": 60,
   "metadata": {},
   "outputs": [],
   "source": [
    "C.view()\n",
    "time.sleep(.8)\n",
    "# display the path\n",
    "for t in range(0, path.shape[0]-1):\n",
    "    C.setJointState(path[t])\n",
    "    C.view()\n",
    "    time.sleep(.1)"
   ]
  },
  {
   "cell_type": "code",
   "execution_count": 61,
   "metadata": {},
   "outputs": [],
   "source": [
    "#attach cargo\n",
    "C.getFrame('car1').unLink()\n",
    "C.attach('l_robot_base', 'car1') \n"
   ]
  },
  {
   "cell_type": "code",
   "execution_count": 62,
   "metadata": {},
   "outputs": [],
   "source": [
    "target = C.getFrame('parking_space_20')\n",
    "#robotPos = C.getFrame('l_robot_base').getPosition()\n",
    "robot_to_park = moveToPark(C, target)"
   ]
  },
  {
   "cell_type": "code",
   "execution_count": 63,
   "metadata": {},
   "outputs": [
    {
     "name": "stdout",
     "output_type": "stream",
     "text": [
      "True\n"
     ]
    }
   ],
   "source": [
    "rrt2 = ry.PathFinder()\n",
    "rrt2.setProblem(C, [robot_to_car], [robot_to_park])\n",
    "\n",
    "# ret2 = rrt2.solve()\n",
    "# path2 = ret2.x\n",
    "for trial in range(10):\n",
    "    ret2 = rrt2.solve()\n",
    "    path2 = ret2.x\n",
    "    print(ret2.feasible)\n",
    "    if ret2.feasible is False:\n",
    "        continue\n",
    "    else:\n",
    "        break"
   ]
  },
  {
   "cell_type": "code",
   "execution_count": 64,
   "metadata": {},
   "outputs": [],
   "source": [
    "C.view()\n",
    "time.sleep(.8)\n",
    "# display the path\n",
    "for t in range(0, path2.shape[0]-1):\n",
    "    C.setJointState(path2[t])\n",
    "    C.view()\n",
    "    time.sleep(.1)"
   ]
  },
  {
   "cell_type": "code",
   "execution_count": 65,
   "metadata": {},
   "outputs": [
    {
     "data": {
      "text/plain": [
       "<robotic._robotic.Frame at 0x7de3bb3da830>"
      ]
     },
     "execution_count": 65,
     "metadata": {},
     "output_type": "execute_result"
    }
   ],
   "source": [
    "#detach cargo\n",
    "C.getFrame('car1').unLink()"
   ]
  },
  {
   "cell_type": "code",
   "execution_count": 66,
   "metadata": {},
   "outputs": [
    {
     "name": "stdout",
     "output_type": "stream",
     "text": [
      "-- RRT_PathFinder.cpp:RRT_PathFinder:257(0) initializing with infeasible q0:\n",
      "query: h_goal: 0 g_coll: 0 isGoal: 1 isFeasible: 0\n"
     ]
    }
   ],
   "source": [
    "return_back = moveBack(C)\n",
    "\n",
    "rrt3 = ry.PathFinder()\n",
    "rrt3.setProblem(C, [robot_to_park], [return_back])\n",
    "\n",
    "ret3 = rrt3.solve()\n",
    "path3 = ret3.x"
   ]
  },
  {
   "cell_type": "code",
   "execution_count": 67,
   "metadata": {},
   "outputs": [],
   "source": [
    "C.view()\n",
    "time.sleep(.8)\n",
    "# display the path\n",
    "for t in range(0, path3.shape[0]-1):\n",
    "    C.setJointState(path3[t])\n",
    "    C.view()\n",
    "    time.sleep(.1)"
   ]
  },
  {
   "cell_type": "code",
   "execution_count": 68,
   "metadata": {},
   "outputs": [
    {
     "name": "stdout",
     "output_type": "stream",
     "text": [
      "[ 1.5  -3.6   0.15]\n",
      "[-0.5  -4.2   0.01]\n"
     ]
    }
   ],
   "source": [
    "print(C.getFrame(\"car2\").getPosition())\n",
    "print(C.getFrame(\"parking_space_23\").getPosition())"
   ]
  },
  {
   "cell_type": "code",
   "execution_count": 69,
   "metadata": {},
   "outputs": [],
   "source": [
    "#C.setJointState(qHome)\n",
    "\n",
    "# ry.params_add({'botsim/verbose': 2., 'physx/motorKp': 10000., 'physx/motorKd': 1000.})\n",
    "# ry.params_print()\n",
    "# bot = ry.BotOp(C, False)\n",
    "# bot.home(C)\n",
    "\n",
    "# bot.move(robot_to_car, [2. , 3.])\n",
    "# while bot.getTimeToEnd()>0:\n",
    "#     bot.sync(C, .1)\n",
    "\n",
    "# bot.moveAutoTimed(path, 1., 1.)\n",
    "# while bot.getTimeToEnd()>0:\n",
    "#     bot.sync(C, .1)\n",
    "\n",
    "# C.getFrame('car2').unLink()\n",
    "# C.attach('l_robot_base', 'car2') \n",
    "\n",
    "# target = C.getFrame('parking_space_28')\n",
    "# #robotPos = C.getFrame('l_robot_base').getPosition()\n",
    "# robot_to_park = moveToPark(C, target)\n",
    "\n",
    "# rrt2 = ry.PathFinder()\n",
    "# rrt2.setProblem(C, [robot_to_car], [robot_to_park])\n",
    "\n",
    "# for trial in range(10):\n",
    "#     ret2 = rrt2.solve()\n",
    "#     path2 = ret2.x\n",
    "#     print(ret2.feasible)\n",
    "#     if ret2.feasible is False:\n",
    "#         continue\n",
    "#     else:\n",
    "#         break\n",
    "\n",
    "# bot.moveAutoTimed(path2, 1., 1.)\n",
    "# while bot.getTimeToEnd()>0:\n",
    "#     bot.sync(C, .1)\n",
    "\n",
    "# C.getFrame('car2').unLink()\n",
    "\n",
    "# return_back = moveBack(C)\n",
    "\n",
    "# rrt3 = ry.PathFinder()\n",
    "# rrt3.setProblem(C, [robot_to_park], [return_back])\n",
    "\n",
    "# ret3 = rrt3.solve()\n",
    "# path3 = ret3.x\n",
    "\n",
    "# bot.moveAutoTimed(path3, 1., 1.)\n",
    "# while bot.getTimeToEnd()>0:\n",
    "#     bot.sync(C, .1)\n",
    "\n",
    "\n",
    "# for t in range(0, path.shape[0]-1):\n",
    "#     bot.sync(C, .1)\n",
    "#     bot.moveTo(path[t])"
   ]
  },
  {
   "cell_type": "code",
   "execution_count": 70,
   "metadata": {},
   "outputs": [],
   "source": [
    "# del bot"
   ]
  }
 ],
 "metadata": {
  "kernelspec": {
   "display_name": "Python 3",
   "language": "python",
   "name": "python3"
  },
  "language_info": {
   "codemirror_mode": {
    "name": "ipython",
    "version": 3
   },
   "file_extension": ".py",
   "mimetype": "text/x-python",
   "name": "python",
   "nbconvert_exporter": "python",
   "pygments_lexer": "ipython3",
   "version": "3.10.12"
  }
 },
 "nbformat": 4,
 "nbformat_minor": 2
}
